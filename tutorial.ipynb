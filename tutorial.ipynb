{
 "cells": [
  {
   "cell_type": "markdown",
   "id": "ba975e0e-40fe-4425-86b1-04bbeb182964",
   "metadata": {},
   "source": [
    "# Tutorial"
   ]
  },
  {
   "cell_type": "code",
   "execution_count": 1,
   "id": "bc13bb22-a7b0-4e5e-ac8b-a2665e46160c",
   "metadata": {},
   "outputs": [
    {
     "name": "stdout",
     "output_type": "stream",
     "text": [
      "Hello, world!\n"
     ]
    }
   ],
   "source": [
    "print(\"Hello, world!\")"
   ]
  },
  {
   "cell_type": "code",
   "execution_count": 3,
   "id": "13dc618c-d5d3-43fe-b798-5bc9504c7010",
   "metadata": {},
   "outputs": [
    {
     "data": {
      "text/plain": [
       "range(0, 10)"
      ]
     },
     "execution_count": 3,
     "metadata": {},
     "output_type": "execute_result"
    }
   ],
   "source": [
    "range(10)"
   ]
  },
  {
   "cell_type": "code",
   "execution_count": 4,
   "id": "8dc370ce-1e8a-4d28-891f-49f5c3c9ab9b",
   "metadata": {},
   "outputs": [
    {
     "data": {
      "text/plain": [
       "range(0, 999999999999999999999999999)"
      ]
     },
     "execution_count": 4,
     "metadata": {},
     "output_type": "execute_result"
    }
   ],
   "source": [
    "range(999_999_999_999_999_999_999_999_999)"
   ]
  },
  {
   "cell_type": "code",
   "execution_count": 5,
   "id": "722a4427-d239-40e9-b3cf-6035836e2d63",
   "metadata": {},
   "outputs": [],
   "source": [
    "def one_two_three():\n",
    "    return 1\n",
    "    return 2\n",
    "    return 3"
   ]
  },
  {
   "cell_type": "code",
   "execution_count": 6,
   "id": "f1d09aeb-17f2-472e-bf2d-9d00fd38e8ac",
   "metadata": {},
   "outputs": [
    {
     "data": {
      "text/plain": [
       "1"
      ]
     },
     "execution_count": 6,
     "metadata": {},
     "output_type": "execute_result"
    }
   ],
   "source": [
    "one_two_three()"
   ]
  },
  {
   "cell_type": "markdown",
   "id": "954098bd-906c-46c4-9022-64d1aecf4b49",
   "metadata": {},
   "source": [
    "# `yield`"
   ]
  },
  {
   "cell_type": "code",
   "execution_count": 7,
   "id": "b8753058-7e4c-47d4-9f08-3460ebc67554",
   "metadata": {},
   "outputs": [],
   "source": [
    "def one_two_three():\n",
    "    yield 1\n",
    "    yield 2\n",
    "    yield 3"
   ]
  },
  {
   "cell_type": "code",
   "execution_count": 8,
   "id": "7c65fc08-99ea-49e7-947a-9177b05b1b02",
   "metadata": {},
   "outputs": [
    {
     "data": {
      "text/plain": [
       "<generator object one_two_three at 0x103715fe0>"
      ]
     },
     "execution_count": 8,
     "metadata": {},
     "output_type": "execute_result"
    }
   ],
   "source": [
    "one_two_three()"
   ]
  },
  {
   "cell_type": "code",
   "execution_count": 9,
   "id": "2db4327d-27d8-4ecc-8eb3-d1ff3a561131",
   "metadata": {},
   "outputs": [],
   "source": [
    "generator = one_two_three()"
   ]
  },
  {
   "cell_type": "code",
   "execution_count": 10,
   "id": "c11a703a-f2fc-4762-bbbb-0b3f4c15ba6e",
   "metadata": {},
   "outputs": [
    {
     "data": {
      "text/plain": [
       "1"
      ]
     },
     "execution_count": 10,
     "metadata": {},
     "output_type": "execute_result"
    }
   ],
   "source": [
    "next(generator)"
   ]
  },
  {
   "cell_type": "code",
   "execution_count": null,
   "id": "a0e0a73e-ad4a-44cd-956f-eb697ea00b06",
   "metadata": {},
   "outputs": [],
   "source": []
  }
 ],
 "metadata": {
  "kernelspec": {
   "display_name": "Python 3 (ipykernel)",
   "language": "python",
   "name": "python3"
  },
  "language_info": {
   "codemirror_mode": {
    "name": "ipython",
    "version": 3
   },
   "file_extension": ".py",
   "mimetype": "text/x-python",
   "name": "python",
   "nbconvert_exporter": "python",
   "pygments_lexer": "ipython3",
   "version": "3.13.3"
  }
 },
 "nbformat": 4,
 "nbformat_minor": 5
}
